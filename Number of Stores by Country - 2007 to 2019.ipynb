{
 "cells": [
  {
   "cell_type": "code",
   "execution_count": 1,
   "id": "e202b77f",
   "metadata": {},
   "outputs": [
    {
     "name": "stdout",
     "output_type": "stream",
     "text": [
      "Requirement already satisfied: pandas in /Users/macbookpro/anaconda3/lib/python3.11/site-packages (1.5.3)\n",
      "Requirement already satisfied: python-dateutil>=2.8.1 in /Users/macbookpro/anaconda3/lib/python3.11/site-packages (from pandas) (2.8.2)\n",
      "Requirement already satisfied: pytz>=2020.1 in /Users/macbookpro/anaconda3/lib/python3.11/site-packages (from pandas) (2022.7)\n",
      "Requirement already satisfied: numpy>=1.21.0 in /Users/macbookpro/anaconda3/lib/python3.11/site-packages (from pandas) (1.24.3)\n",
      "Requirement already satisfied: six>=1.5 in /Users/macbookpro/anaconda3/lib/python3.11/site-packages (from python-dateutil>=2.8.1->pandas) (1.16.0)\n",
      "Requirement already satisfied: datetime in /Users/macbookpro/anaconda3/lib/python3.11/site-packages (5.2)\n",
      "Requirement already satisfied: zope.interface in /Users/macbookpro/anaconda3/lib/python3.11/site-packages (from datetime) (5.4.0)\n",
      "Requirement already satisfied: pytz in /Users/macbookpro/anaconda3/lib/python3.11/site-packages (from datetime) (2022.7)\n",
      "Requirement already satisfied: setuptools in /Users/macbookpro/anaconda3/lib/python3.11/site-packages (from zope.interface->datetime) (68.0.0)\n",
      "Requirement already satisfied: seaborn in /Users/macbookpro/anaconda3/lib/python3.11/site-packages (0.12.2)\n",
      "Requirement already satisfied: numpy!=1.24.0,>=1.17 in /Users/macbookpro/anaconda3/lib/python3.11/site-packages (from seaborn) (1.24.3)\n",
      "Requirement already satisfied: pandas>=0.25 in /Users/macbookpro/anaconda3/lib/python3.11/site-packages (from seaborn) (1.5.3)\n",
      "Requirement already satisfied: matplotlib!=3.6.1,>=3.1 in /Users/macbookpro/anaconda3/lib/python3.11/site-packages (from seaborn) (3.7.1)\n",
      "Requirement already satisfied: contourpy>=1.0.1 in /Users/macbookpro/anaconda3/lib/python3.11/site-packages (from matplotlib!=3.6.1,>=3.1->seaborn) (1.0.5)\n",
      "Requirement already satisfied: cycler>=0.10 in /Users/macbookpro/anaconda3/lib/python3.11/site-packages (from matplotlib!=3.6.1,>=3.1->seaborn) (0.11.0)\n",
      "Requirement already satisfied: fonttools>=4.22.0 in /Users/macbookpro/anaconda3/lib/python3.11/site-packages (from matplotlib!=3.6.1,>=3.1->seaborn) (4.25.0)\n",
      "Requirement already satisfied: kiwisolver>=1.0.1 in /Users/macbookpro/anaconda3/lib/python3.11/site-packages (from matplotlib!=3.6.1,>=3.1->seaborn) (1.4.4)\n",
      "Requirement already satisfied: packaging>=20.0 in /Users/macbookpro/anaconda3/lib/python3.11/site-packages (from matplotlib!=3.6.1,>=3.1->seaborn) (23.0)\n",
      "Requirement already satisfied: pillow>=6.2.0 in /Users/macbookpro/anaconda3/lib/python3.11/site-packages (from matplotlib!=3.6.1,>=3.1->seaborn) (9.4.0)\n",
      "Requirement already satisfied: pyparsing>=2.3.1 in /Users/macbookpro/anaconda3/lib/python3.11/site-packages (from matplotlib!=3.6.1,>=3.1->seaborn) (3.0.9)\n",
      "Requirement already satisfied: python-dateutil>=2.7 in /Users/macbookpro/anaconda3/lib/python3.11/site-packages (from matplotlib!=3.6.1,>=3.1->seaborn) (2.8.2)\n",
      "Requirement already satisfied: pytz>=2020.1 in /Users/macbookpro/anaconda3/lib/python3.11/site-packages (from pandas>=0.25->seaborn) (2022.7)\n",
      "Requirement already satisfied: six>=1.5 in /Users/macbookpro/anaconda3/lib/python3.11/site-packages (from python-dateutil>=2.7->matplotlib!=3.6.1,>=3.1->seaborn) (1.16.0)\n",
      "Requirement already satisfied: plotly in /Users/macbookpro/anaconda3/lib/python3.11/site-packages (5.9.0)\n",
      "Requirement already satisfied: tenacity>=6.2.0 in /Users/macbookpro/anaconda3/lib/python3.11/site-packages (from plotly) (8.2.2)\n",
      "Requirement already satisfied: plotly.express in /Users/macbookpro/anaconda3/lib/python3.11/site-packages (0.4.1)\n",
      "Requirement already satisfied: pandas>=0.20.0 in /Users/macbookpro/anaconda3/lib/python3.11/site-packages (from plotly.express) (1.5.3)\n",
      "Requirement already satisfied: plotly>=4.1.0 in /Users/macbookpro/anaconda3/lib/python3.11/site-packages (from plotly.express) (5.9.0)\n",
      "Requirement already satisfied: statsmodels>=0.9.0 in /Users/macbookpro/anaconda3/lib/python3.11/site-packages (from plotly.express) (0.14.0)\n",
      "Requirement already satisfied: scipy>=0.18 in /Users/macbookpro/anaconda3/lib/python3.11/site-packages (from plotly.express) (1.10.1)\n",
      "Requirement already satisfied: patsy>=0.5 in /Users/macbookpro/anaconda3/lib/python3.11/site-packages (from plotly.express) (0.5.3)\n",
      "Requirement already satisfied: numpy>=1.11 in /Users/macbookpro/anaconda3/lib/python3.11/site-packages (from plotly.express) (1.24.3)\n",
      "Requirement already satisfied: python-dateutil>=2.8.1 in /Users/macbookpro/anaconda3/lib/python3.11/site-packages (from pandas>=0.20.0->plotly.express) (2.8.2)\n",
      "Requirement already satisfied: pytz>=2020.1 in /Users/macbookpro/anaconda3/lib/python3.11/site-packages (from pandas>=0.20.0->plotly.express) (2022.7)\n",
      "Requirement already satisfied: six in /Users/macbookpro/anaconda3/lib/python3.11/site-packages (from patsy>=0.5->plotly.express) (1.16.0)\n",
      "Requirement already satisfied: tenacity>=6.2.0 in /Users/macbookpro/anaconda3/lib/python3.11/site-packages (from plotly>=4.1.0->plotly.express) (8.2.2)\n",
      "Requirement already satisfied: packaging>=21.3 in /Users/macbookpro/anaconda3/lib/python3.11/site-packages (from statsmodels>=0.9.0->plotly.express) (23.0)\n",
      "Requirement already satisfied: Matplotlib in /Users/macbookpro/anaconda3/lib/python3.11/site-packages (3.7.1)\n",
      "Requirement already satisfied: contourpy>=1.0.1 in /Users/macbookpro/anaconda3/lib/python3.11/site-packages (from Matplotlib) (1.0.5)\n",
      "Requirement already satisfied: cycler>=0.10 in /Users/macbookpro/anaconda3/lib/python3.11/site-packages (from Matplotlib) (0.11.0)\n",
      "Requirement already satisfied: fonttools>=4.22.0 in /Users/macbookpro/anaconda3/lib/python3.11/site-packages (from Matplotlib) (4.25.0)\n",
      "Requirement already satisfied: kiwisolver>=1.0.1 in /Users/macbookpro/anaconda3/lib/python3.11/site-packages (from Matplotlib) (1.4.4)\n",
      "Requirement already satisfied: numpy>=1.20 in /Users/macbookpro/anaconda3/lib/python3.11/site-packages (from Matplotlib) (1.24.3)\n",
      "Requirement already satisfied: packaging>=20.0 in /Users/macbookpro/anaconda3/lib/python3.11/site-packages (from Matplotlib) (23.0)\n",
      "Requirement already satisfied: pillow>=6.2.0 in /Users/macbookpro/anaconda3/lib/python3.11/site-packages (from Matplotlib) (9.4.0)\n",
      "Requirement already satisfied: pyparsing>=2.3.1 in /Users/macbookpro/anaconda3/lib/python3.11/site-packages (from Matplotlib) (3.0.9)\n",
      "Requirement already satisfied: python-dateutil>=2.7 in /Users/macbookpro/anaconda3/lib/python3.11/site-packages (from Matplotlib) (2.8.2)\n",
      "Requirement already satisfied: six>=1.5 in /Users/macbookpro/anaconda3/lib/python3.11/site-packages (from python-dateutil>=2.7->Matplotlib) (1.16.0)\n",
      "Requirement already satisfied: descartes in /Users/macbookpro/anaconda3/lib/python3.11/site-packages (1.1.0)\n",
      "Requirement already satisfied: matplotlib in /Users/macbookpro/anaconda3/lib/python3.11/site-packages (from descartes) (3.7.1)\n",
      "Requirement already satisfied: contourpy>=1.0.1 in /Users/macbookpro/anaconda3/lib/python3.11/site-packages (from matplotlib->descartes) (1.0.5)\n",
      "Requirement already satisfied: cycler>=0.10 in /Users/macbookpro/anaconda3/lib/python3.11/site-packages (from matplotlib->descartes) (0.11.0)\n",
      "Requirement already satisfied: fonttools>=4.22.0 in /Users/macbookpro/anaconda3/lib/python3.11/site-packages (from matplotlib->descartes) (4.25.0)\n",
      "Requirement already satisfied: kiwisolver>=1.0.1 in /Users/macbookpro/anaconda3/lib/python3.11/site-packages (from matplotlib->descartes) (1.4.4)\n",
      "Requirement already satisfied: numpy>=1.20 in /Users/macbookpro/anaconda3/lib/python3.11/site-packages (from matplotlib->descartes) (1.24.3)\n",
      "Requirement already satisfied: packaging>=20.0 in /Users/macbookpro/anaconda3/lib/python3.11/site-packages (from matplotlib->descartes) (23.0)\n",
      "Requirement already satisfied: pillow>=6.2.0 in /Users/macbookpro/anaconda3/lib/python3.11/site-packages (from matplotlib->descartes) (9.4.0)\n",
      "Requirement already satisfied: pyparsing>=2.3.1 in /Users/macbookpro/anaconda3/lib/python3.11/site-packages (from matplotlib->descartes) (3.0.9)\n",
      "Requirement already satisfied: python-dateutil>=2.7 in /Users/macbookpro/anaconda3/lib/python3.11/site-packages (from matplotlib->descartes) (2.8.2)\n",
      "Requirement already satisfied: six>=1.5 in /Users/macbookpro/anaconda3/lib/python3.11/site-packages (from python-dateutil>=2.7->matplotlib->descartes) (1.16.0)\n"
     ]
    }
   ],
   "source": [
    "#importei as seguintes biblios:\n",
    "\n",
    "!pip install pandas\n",
    "!pip install datetime\n",
    "!pip install seaborn\n",
    "!pip install plotly\n",
    "!pip install plotly.express\n",
    "!pip install Matplotlib\n",
    "!pip install descartes\n"
   ]
  },
  {
   "cell_type": "code",
   "execution_count": 2,
   "id": "5ed86e0f",
   "metadata": {},
   "outputs": [],
   "source": [
    "# importações das biblios:\n",
    "\n",
    "import geopandas as gpd # faz manipulação de graficos, e dataframes geoespaciais\n",
    "import pandas as pd # faz a manipulação de dataframes\n",
    "import datetime # faz a manipulacao de datas\n",
    "import seaborn as sns # criar graficos simples\n",
    "import plotly as pls # criar graficos/mapas interativos\n",
    "import plotly.express as px # criar graficos/mapas interativos \n",
    "import matplotlib.pyplot as plt # ferramenta de visualização de dados em Python\n",
    "import descartes\n",
    "import folium # visualização de dados geoespaciais e criação de mapas interativos"
   ]
  },
  {
   "cell_type": "code",
   "execution_count": 3,
   "id": "aabc3d00",
   "metadata": {},
   "outputs": [
    {
     "data": {
      "text/html": [
       "<div>\n",
       "<style scoped>\n",
       "    .dataframe tbody tr th:only-of-type {\n",
       "        vertical-align: middle;\n",
       "    }\n",
       "\n",
       "    .dataframe tbody tr th {\n",
       "        vertical-align: top;\n",
       "    }\n",
       "\n",
       "    .dataframe thead th {\n",
       "        text-align: right;\n",
       "    }\n",
       "</style>\n",
       "<table border=\"1\" class=\"dataframe\">\n",
       "  <thead>\n",
       "    <tr style=\"text-align: right;\">\n",
       "      <th></th>\n",
       "      <th>nome</th>\n",
       "      <th>pais</th>\n",
       "      <th>data de abertura</th>\n",
       "      <th>ano</th>\n",
       "      <th>quantidade de lojas</th>\n",
       "      <th>geometry</th>\n",
       "    </tr>\n",
       "  </thead>\n",
       "  <tbody>\n",
       "    <tr>\n",
       "      <th>0</th>\n",
       "      <td>Kauf's Lose</td>\n",
       "      <td>Germany</td>\n",
       "      <td>2019-08-03</td>\n",
       "      <td>2019</td>\n",
       "      <td>1</td>\n",
       "      <td>None</td>\n",
       "    </tr>\n",
       "    <tr>\n",
       "      <th>1</th>\n",
       "      <td>No Tox Life</td>\n",
       "      <td>United States</td>\n",
       "      <td>2019-04-22</td>\n",
       "      <td>2019</td>\n",
       "      <td>1</td>\n",
       "      <td>None</td>\n",
       "    </tr>\n",
       "    <tr>\n",
       "      <th>2</th>\n",
       "      <td>Ecoindian</td>\n",
       "      <td>India</td>\n",
       "      <td>2019-04-05</td>\n",
       "      <td>2019</td>\n",
       "      <td>1</td>\n",
       "      <td>None</td>\n",
       "    </tr>\n",
       "    <tr>\n",
       "      <th>3</th>\n",
       "      <td>Zero Waste Mkt</td>\n",
       "      <td>United Kingdom</td>\n",
       "      <td>2019-03-16</td>\n",
       "      <td>2019</td>\n",
       "      <td>1</td>\n",
       "      <td>None</td>\n",
       "    </tr>\n",
       "    <tr>\n",
       "      <th>4</th>\n",
       "      <td>A Tutto Sballo</td>\n",
       "      <td>Italy</td>\n",
       "      <td>2019-03-11</td>\n",
       "      <td>2019</td>\n",
       "      <td>1</td>\n",
       "      <td>None</td>\n",
       "    </tr>\n",
       "  </tbody>\n",
       "</table>\n",
       "</div>"
      ],
      "text/plain": [
       "             nome            pais data de abertura   ano quantidade de lojas  \\\n",
       "0     Kauf's Lose         Germany       2019-08-03  2019                   1   \n",
       "1     No Tox Life   United States       2019-04-22  2019                   1   \n",
       "2       Ecoindian           India       2019-04-05  2019                   1   \n",
       "3  Zero Waste Mkt  United Kingdom       2019-03-16  2019                   1   \n",
       "4  A Tutto Sballo           Italy       2019-03-11  2019                   1   \n",
       "\n",
       "  geometry  \n",
       "0     None  \n",
       "1     None  \n",
       "2     None  \n",
       "3     None  \n",
       "4     None  "
      ]
     },
     "execution_count": 3,
     "metadata": {},
     "output_type": "execute_result"
    }
   ],
   "source": [
    "# vou importar meus dados para começar a manipulação\n",
    "# /Users/macbookpro/Documents/Formacao_python/ZeroWasteData/dados_primários_bepakt - lojasZW.csv\n",
    "dados = gpd.read_file(\"/Users/macbookpro/Documents/Formacao_python/ZeroWasteData/dados_primários_bepakt - lojasZW.csv\")\n",
    "\n",
    "\n",
    "dados.head() # esse comando é para visualizar os primeiros dados da minha planilha"
   ]
  },
  {
   "cell_type": "code",
   "execution_count": 14,
   "id": "c47d89fc",
   "metadata": {},
   "outputs": [
    {
     "data": {
      "text/plain": [
       "nome                     object\n",
       "pais                     object\n",
       "data de abertura         object\n",
       "ano                      object\n",
       "quantidade de lojas      object\n",
       "geometry               geometry\n",
       "dtype: object"
      ]
     },
     "execution_count": 14,
     "metadata": {},
     "output_type": "execute_result"
    }
   ],
   "source": [
    "# esse comando é para visualizar os tipos de dados da minha planilha\n",
    "dados.dtypes "
   ]
  },
  {
   "cell_type": "code",
   "execution_count": 4,
   "id": "a83d6f1e",
   "metadata": {},
   "outputs": [
    {
     "data": {
      "text/plain": [
       "array(['1', '4', '2', '200', '6', '5', '26', '40'], dtype=object)"
      ]
     },
     "execution_count": 4,
     "metadata": {},
     "output_type": "execute_result"
    }
   ],
   "source": [
    "dados['quantidade de lojas'].unique()"
   ]
  },
  {
   "cell_type": "code",
   "execution_count": 5,
   "id": "894f7cb1",
   "metadata": {},
   "outputs": [
    {
     "name": "stdout",
     "output_type": "stream",
     "text": [
      "Total de Lojas: 698\n"
     ]
    }
   ],
   "source": [
    "dados['quantidade de lojas'] = dados['quantidade de lojas'].astype(int)\n",
    "\n",
    "\n",
    "total_lojas = dados['quantidade de lojas'].sum()\n",
    "print(\"Total de Lojas:\", total_lojas)\n"
   ]
  },
  {
   "cell_type": "code",
   "execution_count": 6,
   "id": "1b618cd5",
   "metadata": {},
   "outputs": [
    {
     "data": {
      "text/html": [
       "<div>\n",
       "<style scoped>\n",
       "    .dataframe tbody tr th:only-of-type {\n",
       "        vertical-align: middle;\n",
       "    }\n",
       "\n",
       "    .dataframe tbody tr th {\n",
       "        vertical-align: top;\n",
       "    }\n",
       "\n",
       "    .dataframe thead th {\n",
       "        text-align: right;\n",
       "    }\n",
       "</style>\n",
       "<table border=\"1\" class=\"dataframe\">\n",
       "  <thead>\n",
       "    <tr style=\"text-align: right;\">\n",
       "      <th></th>\n",
       "      <th>nome</th>\n",
       "      <th>pais</th>\n",
       "      <th>data de abertura</th>\n",
       "      <th>ano</th>\n",
       "      <th>quantidade de lojas</th>\n",
       "      <th>geometry</th>\n",
       "    </tr>\n",
       "  </thead>\n",
       "  <tbody>\n",
       "    <tr>\n",
       "      <th>0</th>\n",
       "      <td>Kauf's Lose</td>\n",
       "      <td>Germany</td>\n",
       "      <td>2019-08-03</td>\n",
       "      <td>2019</td>\n",
       "      <td>1</td>\n",
       "      <td>None</td>\n",
       "    </tr>\n",
       "    <tr>\n",
       "      <th>1</th>\n",
       "      <td>No Tox Life</td>\n",
       "      <td>United States</td>\n",
       "      <td>2019-04-22</td>\n",
       "      <td>2019</td>\n",
       "      <td>1</td>\n",
       "      <td>None</td>\n",
       "    </tr>\n",
       "    <tr>\n",
       "      <th>2</th>\n",
       "      <td>Ecoindian</td>\n",
       "      <td>India</td>\n",
       "      <td>2019-04-05</td>\n",
       "      <td>2019</td>\n",
       "      <td>1</td>\n",
       "      <td>None</td>\n",
       "    </tr>\n",
       "    <tr>\n",
       "      <th>3</th>\n",
       "      <td>Zero Waste Mkt</td>\n",
       "      <td>United Kingdom</td>\n",
       "      <td>2019-03-16</td>\n",
       "      <td>2019</td>\n",
       "      <td>1</td>\n",
       "      <td>None</td>\n",
       "    </tr>\n",
       "    <tr>\n",
       "      <th>4</th>\n",
       "      <td>A Tutto Sballo</td>\n",
       "      <td>Italy</td>\n",
       "      <td>2019-03-11</td>\n",
       "      <td>2019</td>\n",
       "      <td>1</td>\n",
       "      <td>None</td>\n",
       "    </tr>\n",
       "    <tr>\n",
       "      <th>...</th>\n",
       "      <td>...</td>\n",
       "      <td>...</td>\n",
       "      <td>...</td>\n",
       "      <td>...</td>\n",
       "      <td>...</td>\n",
       "      <td>...</td>\n",
       "    </tr>\n",
       "    <tr>\n",
       "      <th>415</th>\n",
       "      <td>Negozio Leggero</td>\n",
       "      <td>Italy</td>\n",
       "      <td>2009-04-22</td>\n",
       "      <td>2009</td>\n",
       "      <td>1</td>\n",
       "      <td>None</td>\n",
       "    </tr>\n",
       "    <tr>\n",
       "      <th>416</th>\n",
       "      <td>Negozio Leggero</td>\n",
       "      <td>Italy</td>\n",
       "      <td>2009-04-22</td>\n",
       "      <td>2009</td>\n",
       "      <td>1</td>\n",
       "      <td>None</td>\n",
       "    </tr>\n",
       "    <tr>\n",
       "      <th>417</th>\n",
       "      <td>Negozio Leggero</td>\n",
       "      <td>Switzerland</td>\n",
       "      <td>2009-04-22</td>\n",
       "      <td>2009</td>\n",
       "      <td>1</td>\n",
       "      <td>None</td>\n",
       "    </tr>\n",
       "    <tr>\n",
       "      <th>418</th>\n",
       "      <td>Negozio Leggero</td>\n",
       "      <td>France</td>\n",
       "      <td>2009-04-22</td>\n",
       "      <td>2009</td>\n",
       "      <td>1</td>\n",
       "      <td>None</td>\n",
       "    </tr>\n",
       "    <tr>\n",
       "      <th>419</th>\n",
       "      <td>Unpackaged</td>\n",
       "      <td>United Kingdom</td>\n",
       "      <td>2007-11-01</td>\n",
       "      <td>2007</td>\n",
       "      <td>1</td>\n",
       "      <td>None</td>\n",
       "    </tr>\n",
       "  </tbody>\n",
       "</table>\n",
       "<p>420 rows × 6 columns</p>\n",
       "</div>"
      ],
      "text/plain": [
       "                nome            pais data de abertura   ano  \\\n",
       "0        Kauf's Lose         Germany       2019-08-03  2019   \n",
       "1        No Tox Life   United States       2019-04-22  2019   \n",
       "2          Ecoindian           India       2019-04-05  2019   \n",
       "3     Zero Waste Mkt  United Kingdom       2019-03-16  2019   \n",
       "4     A Tutto Sballo           Italy       2019-03-11  2019   \n",
       "..               ...             ...              ...   ...   \n",
       "415  Negozio Leggero           Italy       2009-04-22  2009   \n",
       "416  Negozio Leggero           Italy       2009-04-22  2009   \n",
       "417  Negozio Leggero     Switzerland       2009-04-22  2009   \n",
       "418  Negozio Leggero          France       2009-04-22  2009   \n",
       "419       Unpackaged  United Kingdom       2007-11-01  2007   \n",
       "\n",
       "     quantidade de lojas geometry  \n",
       "0                      1     None  \n",
       "1                      1     None  \n",
       "2                      1     None  \n",
       "3                      1     None  \n",
       "4                      1     None  \n",
       "..                   ...      ...  \n",
       "415                    1     None  \n",
       "416                    1     None  \n",
       "417                    1     None  \n",
       "418                    1     None  \n",
       "419                    1     None  \n",
       "\n",
       "[420 rows x 6 columns]"
      ]
     },
     "execution_count": 6,
     "metadata": {},
     "output_type": "execute_result"
    }
   ],
   "source": [
    "# Certifique-se de que a coluna 'Paises' não possui valores nulos\n",
    "\n",
    "dados = dados.dropna(subset=['pais'])\n",
    "\n",
    "dados"
   ]
  },
  {
   "cell_type": "code",
   "execution_count": 7,
   "id": "11e5d2c8",
   "metadata": {},
   "outputs": [
    {
     "data": {
      "text/html": [
       "<div>\n",
       "<style scoped>\n",
       "    .dataframe tbody tr th:only-of-type {\n",
       "        vertical-align: middle;\n",
       "    }\n",
       "\n",
       "    .dataframe tbody tr th {\n",
       "        vertical-align: top;\n",
       "    }\n",
       "\n",
       "    .dataframe thead th {\n",
       "        text-align: right;\n",
       "    }\n",
       "</style>\n",
       "<table border=\"1\" class=\"dataframe\">\n",
       "  <thead>\n",
       "    <tr style=\"text-align: right;\">\n",
       "      <th></th>\n",
       "      <th>nome</th>\n",
       "      <th>pais</th>\n",
       "      <th>data de abertura</th>\n",
       "      <th>ano</th>\n",
       "      <th>quantidade de lojas</th>\n",
       "      <th>geometry</th>\n",
       "    </tr>\n",
       "  </thead>\n",
       "  <tbody>\n",
       "    <tr>\n",
       "      <th>0</th>\n",
       "      <td>Kauf's Lose</td>\n",
       "      <td>Germany</td>\n",
       "      <td>2019-08-03</td>\n",
       "      <td>2019</td>\n",
       "      <td>1</td>\n",
       "      <td>None</td>\n",
       "    </tr>\n",
       "    <tr>\n",
       "      <th>1</th>\n",
       "      <td>No Tox Life</td>\n",
       "      <td>United States</td>\n",
       "      <td>2019-04-22</td>\n",
       "      <td>2019</td>\n",
       "      <td>1</td>\n",
       "      <td>None</td>\n",
       "    </tr>\n",
       "    <tr>\n",
       "      <th>2</th>\n",
       "      <td>Ecoindian</td>\n",
       "      <td>India</td>\n",
       "      <td>2019-04-05</td>\n",
       "      <td>2019</td>\n",
       "      <td>1</td>\n",
       "      <td>None</td>\n",
       "    </tr>\n",
       "    <tr>\n",
       "      <th>3</th>\n",
       "      <td>Zero Waste Mkt</td>\n",
       "      <td>United Kingdom</td>\n",
       "      <td>2019-03-16</td>\n",
       "      <td>2019</td>\n",
       "      <td>1</td>\n",
       "      <td>None</td>\n",
       "    </tr>\n",
       "    <tr>\n",
       "      <th>4</th>\n",
       "      <td>A Tutto Sballo</td>\n",
       "      <td>Italy</td>\n",
       "      <td>2019-03-11</td>\n",
       "      <td>2019</td>\n",
       "      <td>1</td>\n",
       "      <td>None</td>\n",
       "    </tr>\n",
       "    <tr>\n",
       "      <th>...</th>\n",
       "      <td>...</td>\n",
       "      <td>...</td>\n",
       "      <td>...</td>\n",
       "      <td>...</td>\n",
       "      <td>...</td>\n",
       "      <td>...</td>\n",
       "    </tr>\n",
       "    <tr>\n",
       "      <th>415</th>\n",
       "      <td>Negozio Leggero</td>\n",
       "      <td>Italy</td>\n",
       "      <td>2009-04-22</td>\n",
       "      <td>2009</td>\n",
       "      <td>1</td>\n",
       "      <td>None</td>\n",
       "    </tr>\n",
       "    <tr>\n",
       "      <th>416</th>\n",
       "      <td>Negozio Leggero</td>\n",
       "      <td>Italy</td>\n",
       "      <td>2009-04-22</td>\n",
       "      <td>2009</td>\n",
       "      <td>1</td>\n",
       "      <td>None</td>\n",
       "    </tr>\n",
       "    <tr>\n",
       "      <th>417</th>\n",
       "      <td>Negozio Leggero</td>\n",
       "      <td>Switzerland</td>\n",
       "      <td>2009-04-22</td>\n",
       "      <td>2009</td>\n",
       "      <td>1</td>\n",
       "      <td>None</td>\n",
       "    </tr>\n",
       "    <tr>\n",
       "      <th>418</th>\n",
       "      <td>Negozio Leggero</td>\n",
       "      <td>France</td>\n",
       "      <td>2009-04-22</td>\n",
       "      <td>2009</td>\n",
       "      <td>1</td>\n",
       "      <td>None</td>\n",
       "    </tr>\n",
       "    <tr>\n",
       "      <th>419</th>\n",
       "      <td>Unpackaged</td>\n",
       "      <td>United Kingdom</td>\n",
       "      <td>2007-11-01</td>\n",
       "      <td>2007</td>\n",
       "      <td>1</td>\n",
       "      <td>None</td>\n",
       "    </tr>\n",
       "  </tbody>\n",
       "</table>\n",
       "<p>420 rows × 6 columns</p>\n",
       "</div>"
      ],
      "text/plain": [
       "                nome            pais data de abertura   ano  \\\n",
       "0        Kauf's Lose         Germany       2019-08-03  2019   \n",
       "1        No Tox Life   United States       2019-04-22  2019   \n",
       "2          Ecoindian           India       2019-04-05  2019   \n",
       "3     Zero Waste Mkt  United Kingdom       2019-03-16  2019   \n",
       "4     A Tutto Sballo           Italy       2019-03-11  2019   \n",
       "..               ...             ...              ...   ...   \n",
       "415  Negozio Leggero           Italy       2009-04-22  2009   \n",
       "416  Negozio Leggero           Italy       2009-04-22  2009   \n",
       "417  Negozio Leggero     Switzerland       2009-04-22  2009   \n",
       "418  Negozio Leggero          France       2009-04-22  2009   \n",
       "419       Unpackaged  United Kingdom       2007-11-01  2007   \n",
       "\n",
       "     quantidade de lojas geometry  \n",
       "0                      1     None  \n",
       "1                      1     None  \n",
       "2                      1     None  \n",
       "3                      1     None  \n",
       "4                      1     None  \n",
       "..                   ...      ...  \n",
       "415                    1     None  \n",
       "416                    1     None  \n",
       "417                    1     None  \n",
       "418                    1     None  \n",
       "419                    1     None  \n",
       "\n",
       "[420 rows x 6 columns]"
      ]
     },
     "execution_count": 7,
     "metadata": {},
     "output_type": "execute_result"
    }
   ],
   "source": [
    "# Agrupe os dados por país e conte o número de lojas em cada país\n",
    "\n",
    "\n",
    "data_by_country = dados.groupby('pais')['nome'].count().reset_index()\n",
    "\n",
    "# Ordene os dados por número de lojas em ordem decrescente (opcional)\n",
    "data_by_country = data_by_country.sort_values(by='nome', ascending=False)\n",
    "\n",
    "dados\n"
   ]
  },
  {
   "cell_type": "code",
   "execution_count": 8,
   "id": "3fd712d0",
   "metadata": {},
   "outputs": [
    {
     "name": "stdout",
     "output_type": "stream",
     "text": [
      "Valores ausentes no Canadá: 0\n",
      "Valores ausentes na Austrália: 0\n"
     ]
    }
   ],
   "source": [
    "canada_data = dados[dados['pais'] == 'Canada']\n",
    "australia_data = dados[dados['pais'] == 'Australia']\n",
    "\n",
    "missing_canada = canada_data['nome'].isna().sum()\n",
    "missing_australia = australia_data['nome'].isna().sum()\n",
    "\n",
    "print(f'Valores ausentes no Canadá: {missing_canada}')\n",
    "print(f'Valores ausentes na Austrália: {missing_australia}')"
   ]
  },
  {
   "cell_type": "code",
   "execution_count": 9,
   "id": "36e317bf",
   "metadata": {},
   "outputs": [],
   "source": [
    "# Corrija os valores errados para Canadá e Austrália\n",
    "dados.loc[dados['pais'] == 'Canada', 'pais'] = 'Canada'\n",
    "dados.loc[dados['pais'] == 'Australia', 'pais'] = 'Australia'"
   ]
  },
  {
   "cell_type": "code",
   "execution_count": 10,
   "id": "3762080f",
   "metadata": {},
   "outputs": [],
   "source": [
    "# Agrupe os dados por país e conte a quantidade de lojas em cada país\n",
    "dados_por_pais = dados.groupby('pais')['quantidade de lojas'].sum().reset_index()\n",
    "\n",
    "# Ordene os dados por quantidade de lojas\n",
    "dados_por_pais = dados_por_pais.sort_values(by='quantidade de lojas', ascending=False)\n"
   ]
  },
  {
   "cell_type": "code",
   "execution_count": 12,
   "id": "87d85e11",
   "metadata": {},
   "outputs": [
    {
     "data": {
      "application/vnd.plotly.v1+json": {
       "config": {
        "plotlyServerURL": "https://plot.ly"
       },
       "data": [
        {
         "alignmentgroup": "True",
         "hovertemplate": "<b>Country:</b> %{x}<br><b>Number of Stores:</b> %{y} Stores",
         "legendgroup": "",
         "marker": {
          "color": [
           212,
           93,
           81,
           46,
           44,
           43,
           40,
           19,
           19,
           18,
           15,
           12,
           9,
           7,
           5,
           5,
           4,
           3,
           2,
           2,
           2,
           2,
           1,
           1,
           1,
           1,
           1,
           1,
           1,
           1,
           1,
           1,
           1,
           1,
           1,
           1,
           1
          ],
          "coloraxis": "coloraxis",
          "pattern": {
           "shape": ""
          }
         },
         "name": "",
         "offsetgroup": "",
         "orientation": "v",
         "showlegend": false,
         "text": [
          212,
          93,
          81,
          46,
          44,
          43,
          40,
          19,
          19,
          18,
          15,
          12,
          9,
          7,
          5,
          5,
          4,
          3,
          2,
          2,
          2,
          2,
          1,
          1,
          1,
          1,
          1,
          1,
          1,
          1,
          1,
          1,
          1,
          1,
          1,
          1,
          1
         ],
         "textposition": "auto",
         "type": "bar",
         "x": [
          "Canada",
          "Germany",
          "Italy",
          "France",
          "Belgium",
          "Spain",
          "Australia",
          "United Kingdom",
          "Switzerland",
          "Czech Republic",
          "United States",
          "Austria",
          "Netherlands",
          "Brazil",
          "Indonesia",
          "Denmark",
          "Portugal",
          "Hong Kong",
          "Poland",
          "Norway",
          "Hungary",
          "Mexico",
          "Sweden",
          "Taiwan",
          "Chile",
          "South Korea",
          "Ukraine",
          "Colombia",
          "Estonia",
          "South Africa",
          "Slovenia",
          "Singapore",
          "Luxembourg",
          "Lithuania",
          "Japan",
          "India",
          "Latvia"
         ],
         "xaxis": "x",
         "y": [
          212,
          93,
          81,
          46,
          44,
          43,
          40,
          19,
          19,
          18,
          15,
          12,
          9,
          7,
          5,
          5,
          4,
          3,
          2,
          2,
          2,
          2,
          1,
          1,
          1,
          1,
          1,
          1,
          1,
          1,
          1,
          1,
          1,
          1,
          1,
          1,
          1
         ],
         "yaxis": "y"
        }
       ],
       "layout": {
        "annotations": [
         {
          "font": {
           "size": 12
          },
          "showarrow": false,
          "text": "Source: Own production, by Lívia Humaire",
          "x": 1.05,
          "xref": "paper",
          "y": -0.38,
          "yref": "paper"
         }
        ],
        "barmode": "relative",
        "coloraxis": {
         "colorbar": {
          "title": {
           "text": "Number of Stores"
          }
         },
         "colorscale": [
          [
           0,
           "#0d0887"
          ],
          [
           0.1111111111111111,
           "#46039f"
          ],
          [
           0.2222222222222222,
           "#7201a8"
          ],
          [
           0.3333333333333333,
           "#9c179e"
          ],
          [
           0.4444444444444444,
           "#bd3786"
          ],
          [
           0.5555555555555556,
           "#d8576b"
          ],
          [
           0.6666666666666666,
           "#ed7953"
          ],
          [
           0.7777777777777778,
           "#fb9f3a"
          ],
          [
           0.8888888888888888,
           "#fdca26"
          ],
          [
           1,
           "#f0f921"
          ]
         ]
        },
        "height": 500,
        "legend": {
         "tracegroupgap": 0
        },
        "template": {
         "data": {
          "bar": [
           {
            "error_x": {
             "color": "#2a3f5f"
            },
            "error_y": {
             "color": "#2a3f5f"
            },
            "marker": {
             "line": {
              "color": "#E5ECF6",
              "width": 0.5
             },
             "pattern": {
              "fillmode": "overlay",
              "size": 10,
              "solidity": 0.2
             }
            },
            "type": "bar"
           }
          ],
          "barpolar": [
           {
            "marker": {
             "line": {
              "color": "#E5ECF6",
              "width": 0.5
             },
             "pattern": {
              "fillmode": "overlay",
              "size": 10,
              "solidity": 0.2
             }
            },
            "type": "barpolar"
           }
          ],
          "carpet": [
           {
            "aaxis": {
             "endlinecolor": "#2a3f5f",
             "gridcolor": "white",
             "linecolor": "white",
             "minorgridcolor": "white",
             "startlinecolor": "#2a3f5f"
            },
            "baxis": {
             "endlinecolor": "#2a3f5f",
             "gridcolor": "white",
             "linecolor": "white",
             "minorgridcolor": "white",
             "startlinecolor": "#2a3f5f"
            },
            "type": "carpet"
           }
          ],
          "choropleth": [
           {
            "colorbar": {
             "outlinewidth": 0,
             "ticks": ""
            },
            "type": "choropleth"
           }
          ],
          "contour": [
           {
            "colorbar": {
             "outlinewidth": 0,
             "ticks": ""
            },
            "colorscale": [
             [
              0,
              "#0d0887"
             ],
             [
              0.1111111111111111,
              "#46039f"
             ],
             [
              0.2222222222222222,
              "#7201a8"
             ],
             [
              0.3333333333333333,
              "#9c179e"
             ],
             [
              0.4444444444444444,
              "#bd3786"
             ],
             [
              0.5555555555555556,
              "#d8576b"
             ],
             [
              0.6666666666666666,
              "#ed7953"
             ],
             [
              0.7777777777777778,
              "#fb9f3a"
             ],
             [
              0.8888888888888888,
              "#fdca26"
             ],
             [
              1,
              "#f0f921"
             ]
            ],
            "type": "contour"
           }
          ],
          "contourcarpet": [
           {
            "colorbar": {
             "outlinewidth": 0,
             "ticks": ""
            },
            "type": "contourcarpet"
           }
          ],
          "heatmap": [
           {
            "colorbar": {
             "outlinewidth": 0,
             "ticks": ""
            },
            "colorscale": [
             [
              0,
              "#0d0887"
             ],
             [
              0.1111111111111111,
              "#46039f"
             ],
             [
              0.2222222222222222,
              "#7201a8"
             ],
             [
              0.3333333333333333,
              "#9c179e"
             ],
             [
              0.4444444444444444,
              "#bd3786"
             ],
             [
              0.5555555555555556,
              "#d8576b"
             ],
             [
              0.6666666666666666,
              "#ed7953"
             ],
             [
              0.7777777777777778,
              "#fb9f3a"
             ],
             [
              0.8888888888888888,
              "#fdca26"
             ],
             [
              1,
              "#f0f921"
             ]
            ],
            "type": "heatmap"
           }
          ],
          "heatmapgl": [
           {
            "colorbar": {
             "outlinewidth": 0,
             "ticks": ""
            },
            "colorscale": [
             [
              0,
              "#0d0887"
             ],
             [
              0.1111111111111111,
              "#46039f"
             ],
             [
              0.2222222222222222,
              "#7201a8"
             ],
             [
              0.3333333333333333,
              "#9c179e"
             ],
             [
              0.4444444444444444,
              "#bd3786"
             ],
             [
              0.5555555555555556,
              "#d8576b"
             ],
             [
              0.6666666666666666,
              "#ed7953"
             ],
             [
              0.7777777777777778,
              "#fb9f3a"
             ],
             [
              0.8888888888888888,
              "#fdca26"
             ],
             [
              1,
              "#f0f921"
             ]
            ],
            "type": "heatmapgl"
           }
          ],
          "histogram": [
           {
            "marker": {
             "pattern": {
              "fillmode": "overlay",
              "size": 10,
              "solidity": 0.2
             }
            },
            "type": "histogram"
           }
          ],
          "histogram2d": [
           {
            "colorbar": {
             "outlinewidth": 0,
             "ticks": ""
            },
            "colorscale": [
             [
              0,
              "#0d0887"
             ],
             [
              0.1111111111111111,
              "#46039f"
             ],
             [
              0.2222222222222222,
              "#7201a8"
             ],
             [
              0.3333333333333333,
              "#9c179e"
             ],
             [
              0.4444444444444444,
              "#bd3786"
             ],
             [
              0.5555555555555556,
              "#d8576b"
             ],
             [
              0.6666666666666666,
              "#ed7953"
             ],
             [
              0.7777777777777778,
              "#fb9f3a"
             ],
             [
              0.8888888888888888,
              "#fdca26"
             ],
             [
              1,
              "#f0f921"
             ]
            ],
            "type": "histogram2d"
           }
          ],
          "histogram2dcontour": [
           {
            "colorbar": {
             "outlinewidth": 0,
             "ticks": ""
            },
            "colorscale": [
             [
              0,
              "#0d0887"
             ],
             [
              0.1111111111111111,
              "#46039f"
             ],
             [
              0.2222222222222222,
              "#7201a8"
             ],
             [
              0.3333333333333333,
              "#9c179e"
             ],
             [
              0.4444444444444444,
              "#bd3786"
             ],
             [
              0.5555555555555556,
              "#d8576b"
             ],
             [
              0.6666666666666666,
              "#ed7953"
             ],
             [
              0.7777777777777778,
              "#fb9f3a"
             ],
             [
              0.8888888888888888,
              "#fdca26"
             ],
             [
              1,
              "#f0f921"
             ]
            ],
            "type": "histogram2dcontour"
           }
          ],
          "mesh3d": [
           {
            "colorbar": {
             "outlinewidth": 0,
             "ticks": ""
            },
            "type": "mesh3d"
           }
          ],
          "parcoords": [
           {
            "line": {
             "colorbar": {
              "outlinewidth": 0,
              "ticks": ""
             }
            },
            "type": "parcoords"
           }
          ],
          "pie": [
           {
            "automargin": true,
            "type": "pie"
           }
          ],
          "scatter": [
           {
            "fillpattern": {
             "fillmode": "overlay",
             "size": 10,
             "solidity": 0.2
            },
            "type": "scatter"
           }
          ],
          "scatter3d": [
           {
            "line": {
             "colorbar": {
              "outlinewidth": 0,
              "ticks": ""
             }
            },
            "marker": {
             "colorbar": {
              "outlinewidth": 0,
              "ticks": ""
             }
            },
            "type": "scatter3d"
           }
          ],
          "scattercarpet": [
           {
            "marker": {
             "colorbar": {
              "outlinewidth": 0,
              "ticks": ""
             }
            },
            "type": "scattercarpet"
           }
          ],
          "scattergeo": [
           {
            "marker": {
             "colorbar": {
              "outlinewidth": 0,
              "ticks": ""
             }
            },
            "type": "scattergeo"
           }
          ],
          "scattergl": [
           {
            "marker": {
             "colorbar": {
              "outlinewidth": 0,
              "ticks": ""
             }
            },
            "type": "scattergl"
           }
          ],
          "scattermapbox": [
           {
            "marker": {
             "colorbar": {
              "outlinewidth": 0,
              "ticks": ""
             }
            },
            "type": "scattermapbox"
           }
          ],
          "scatterpolar": [
           {
            "marker": {
             "colorbar": {
              "outlinewidth": 0,
              "ticks": ""
             }
            },
            "type": "scatterpolar"
           }
          ],
          "scatterpolargl": [
           {
            "marker": {
             "colorbar": {
              "outlinewidth": 0,
              "ticks": ""
             }
            },
            "type": "scatterpolargl"
           }
          ],
          "scatterternary": [
           {
            "marker": {
             "colorbar": {
              "outlinewidth": 0,
              "ticks": ""
             }
            },
            "type": "scatterternary"
           }
          ],
          "surface": [
           {
            "colorbar": {
             "outlinewidth": 0,
             "ticks": ""
            },
            "colorscale": [
             [
              0,
              "#0d0887"
             ],
             [
              0.1111111111111111,
              "#46039f"
             ],
             [
              0.2222222222222222,
              "#7201a8"
             ],
             [
              0.3333333333333333,
              "#9c179e"
             ],
             [
              0.4444444444444444,
              "#bd3786"
             ],
             [
              0.5555555555555556,
              "#d8576b"
             ],
             [
              0.6666666666666666,
              "#ed7953"
             ],
             [
              0.7777777777777778,
              "#fb9f3a"
             ],
             [
              0.8888888888888888,
              "#fdca26"
             ],
             [
              1,
              "#f0f921"
             ]
            ],
            "type": "surface"
           }
          ],
          "table": [
           {
            "cells": {
             "fill": {
              "color": "#EBF0F8"
             },
             "line": {
              "color": "white"
             }
            },
            "header": {
             "fill": {
              "color": "#C8D4E3"
             },
             "line": {
              "color": "white"
             }
            },
            "type": "table"
           }
          ]
         },
         "layout": {
          "annotationdefaults": {
           "arrowcolor": "#2a3f5f",
           "arrowhead": 0,
           "arrowwidth": 1
          },
          "autotypenumbers": "strict",
          "coloraxis": {
           "colorbar": {
            "outlinewidth": 0,
            "ticks": ""
           }
          },
          "colorscale": {
           "diverging": [
            [
             0,
             "#8e0152"
            ],
            [
             0.1,
             "#c51b7d"
            ],
            [
             0.2,
             "#de77ae"
            ],
            [
             0.3,
             "#f1b6da"
            ],
            [
             0.4,
             "#fde0ef"
            ],
            [
             0.5,
             "#f7f7f7"
            ],
            [
             0.6,
             "#e6f5d0"
            ],
            [
             0.7,
             "#b8e186"
            ],
            [
             0.8,
             "#7fbc41"
            ],
            [
             0.9,
             "#4d9221"
            ],
            [
             1,
             "#276419"
            ]
           ],
           "sequential": [
            [
             0,
             "#0d0887"
            ],
            [
             0.1111111111111111,
             "#46039f"
            ],
            [
             0.2222222222222222,
             "#7201a8"
            ],
            [
             0.3333333333333333,
             "#9c179e"
            ],
            [
             0.4444444444444444,
             "#bd3786"
            ],
            [
             0.5555555555555556,
             "#d8576b"
            ],
            [
             0.6666666666666666,
             "#ed7953"
            ],
            [
             0.7777777777777778,
             "#fb9f3a"
            ],
            [
             0.8888888888888888,
             "#fdca26"
            ],
            [
             1,
             "#f0f921"
            ]
           ],
           "sequentialminus": [
            [
             0,
             "#0d0887"
            ],
            [
             0.1111111111111111,
             "#46039f"
            ],
            [
             0.2222222222222222,
             "#7201a8"
            ],
            [
             0.3333333333333333,
             "#9c179e"
            ],
            [
             0.4444444444444444,
             "#bd3786"
            ],
            [
             0.5555555555555556,
             "#d8576b"
            ],
            [
             0.6666666666666666,
             "#ed7953"
            ],
            [
             0.7777777777777778,
             "#fb9f3a"
            ],
            [
             0.8888888888888888,
             "#fdca26"
            ],
            [
             1,
             "#f0f921"
            ]
           ]
          },
          "colorway": [
           "#636efa",
           "#EF553B",
           "#00cc96",
           "#ab63fa",
           "#FFA15A",
           "#19d3f3",
           "#FF6692",
           "#B6E880",
           "#FF97FF",
           "#FECB52"
          ],
          "font": {
           "color": "#2a3f5f"
          },
          "geo": {
           "bgcolor": "white",
           "lakecolor": "white",
           "landcolor": "#E5ECF6",
           "showlakes": true,
           "showland": true,
           "subunitcolor": "white"
          },
          "hoverlabel": {
           "align": "left"
          },
          "hovermode": "closest",
          "mapbox": {
           "style": "light"
          },
          "paper_bgcolor": "white",
          "plot_bgcolor": "#E5ECF6",
          "polar": {
           "angularaxis": {
            "gridcolor": "white",
            "linecolor": "white",
            "ticks": ""
           },
           "bgcolor": "#E5ECF6",
           "radialaxis": {
            "gridcolor": "white",
            "linecolor": "white",
            "ticks": ""
           }
          },
          "scene": {
           "xaxis": {
            "backgroundcolor": "#E5ECF6",
            "gridcolor": "white",
            "gridwidth": 2,
            "linecolor": "white",
            "showbackground": true,
            "ticks": "",
            "zerolinecolor": "white"
           },
           "yaxis": {
            "backgroundcolor": "#E5ECF6",
            "gridcolor": "white",
            "gridwidth": 2,
            "linecolor": "white",
            "showbackground": true,
            "ticks": "",
            "zerolinecolor": "white"
           },
           "zaxis": {
            "backgroundcolor": "#E5ECF6",
            "gridcolor": "white",
            "gridwidth": 2,
            "linecolor": "white",
            "showbackground": true,
            "ticks": "",
            "zerolinecolor": "white"
           }
          },
          "shapedefaults": {
           "line": {
            "color": "#2a3f5f"
           }
          },
          "ternary": {
           "aaxis": {
            "gridcolor": "white",
            "linecolor": "white",
            "ticks": ""
           },
           "baxis": {
            "gridcolor": "white",
            "linecolor": "white",
            "ticks": ""
           },
           "bgcolor": "#E5ECF6",
           "caxis": {
            "gridcolor": "white",
            "linecolor": "white",
            "ticks": ""
           }
          },
          "title": {
           "x": 0.05
          },
          "xaxis": {
           "automargin": true,
           "gridcolor": "white",
           "linecolor": "white",
           "ticks": "",
           "title": {
            "standoff": 15
           },
           "zerolinecolor": "white",
           "zerolinewidth": 2
          },
          "yaxis": {
           "automargin": true,
           "gridcolor": "white",
           "linecolor": "white",
           "ticks": "",
           "title": {
            "standoff": 15
           },
           "zerolinecolor": "white",
           "zerolinewidth": 2
          }
         }
        },
        "title": {
         "text": "Number of Stores by Country - 2007 to 2019"
        },
        "uniformtext": {
         "mode": "show"
        },
        "xaxis": {
         "anchor": "y",
         "domain": [
          0,
          1
         ],
         "tickangle": -45,
         "title": {
          "text": "Country"
         }
        },
        "yaxis": {
         "anchor": "x",
         "domain": [
          0,
          1
         ],
         "title": {
          "text": "Number of Stores"
         }
        }
       }
      },
      "text/html": [
       "<div>                            <div id=\"dc6464ab-c9d8-48e1-9a45-863957aac85c\" class=\"plotly-graph-div\" style=\"height:500px; width:100%;\"></div>            <script type=\"text/javascript\">                require([\"plotly\"], function(Plotly) {                    window.PLOTLYENV=window.PLOTLYENV || {};                                    if (document.getElementById(\"dc6464ab-c9d8-48e1-9a45-863957aac85c\")) {                    Plotly.newPlot(                        \"dc6464ab-c9d8-48e1-9a45-863957aac85c\",                        [{\"alignmentgroup\":\"True\",\"hovertemplate\":\"<b>Country:</b> %{x}<br><b>Number of Stores:</b> %{y} Stores\",\"legendgroup\":\"\",\"marker\":{\"color\":[212,93,81,46,44,43,40,19,19,18,15,12,9,7,5,5,4,3,2,2,2,2,1,1,1,1,1,1,1,1,1,1,1,1,1,1,1],\"coloraxis\":\"coloraxis\",\"pattern\":{\"shape\":\"\"}},\"name\":\"\",\"offsetgroup\":\"\",\"orientation\":\"v\",\"showlegend\":false,\"text\":[212.0,93.0,81.0,46.0,44.0,43.0,40.0,19.0,19.0,18.0,15.0,12.0,9.0,7.0,5.0,5.0,4.0,3.0,2.0,2.0,2.0,2.0,1.0,1.0,1.0,1.0,1.0,1.0,1.0,1.0,1.0,1.0,1.0,1.0,1.0,1.0,1.0],\"textposition\":\"auto\",\"x\":[\"Canada\",\"Germany\",\"Italy\",\"France\",\"Belgium\",\"Spain\",\"Australia\",\"United Kingdom\",\"Switzerland\",\"Czech Republic\",\"United States\",\"Austria\",\"Netherlands\",\"Brazil\",\"Indonesia\",\"Denmark\",\"Portugal\",\"Hong Kong\",\"Poland\",\"Norway\",\"Hungary\",\"Mexico\",\"Sweden\",\"Taiwan\",\"Chile\",\"South Korea\",\"Ukraine\",\"Colombia\",\"Estonia\",\"South Africa\",\"Slovenia\",\"Singapore\",\"Luxembourg\",\"Lithuania\",\"Japan\",\"India\",\"Latvia\"],\"xaxis\":\"x\",\"y\":[212,93,81,46,44,43,40,19,19,18,15,12,9,7,5,5,4,3,2,2,2,2,1,1,1,1,1,1,1,1,1,1,1,1,1,1,1],\"yaxis\":\"y\",\"type\":\"bar\"}],                        {\"template\":{\"data\":{\"histogram2dcontour\":[{\"type\":\"histogram2dcontour\",\"colorbar\":{\"outlinewidth\":0,\"ticks\":\"\"},\"colorscale\":[[0.0,\"#0d0887\"],[0.1111111111111111,\"#46039f\"],[0.2222222222222222,\"#7201a8\"],[0.3333333333333333,\"#9c179e\"],[0.4444444444444444,\"#bd3786\"],[0.5555555555555556,\"#d8576b\"],[0.6666666666666666,\"#ed7953\"],[0.7777777777777778,\"#fb9f3a\"],[0.8888888888888888,\"#fdca26\"],[1.0,\"#f0f921\"]]}],\"choropleth\":[{\"type\":\"choropleth\",\"colorbar\":{\"outlinewidth\":0,\"ticks\":\"\"}}],\"histogram2d\":[{\"type\":\"histogram2d\",\"colorbar\":{\"outlinewidth\":0,\"ticks\":\"\"},\"colorscale\":[[0.0,\"#0d0887\"],[0.1111111111111111,\"#46039f\"],[0.2222222222222222,\"#7201a8\"],[0.3333333333333333,\"#9c179e\"],[0.4444444444444444,\"#bd3786\"],[0.5555555555555556,\"#d8576b\"],[0.6666666666666666,\"#ed7953\"],[0.7777777777777778,\"#fb9f3a\"],[0.8888888888888888,\"#fdca26\"],[1.0,\"#f0f921\"]]}],\"heatmap\":[{\"type\":\"heatmap\",\"colorbar\":{\"outlinewidth\":0,\"ticks\":\"\"},\"colorscale\":[[0.0,\"#0d0887\"],[0.1111111111111111,\"#46039f\"],[0.2222222222222222,\"#7201a8\"],[0.3333333333333333,\"#9c179e\"],[0.4444444444444444,\"#bd3786\"],[0.5555555555555556,\"#d8576b\"],[0.6666666666666666,\"#ed7953\"],[0.7777777777777778,\"#fb9f3a\"],[0.8888888888888888,\"#fdca26\"],[1.0,\"#f0f921\"]]}],\"heatmapgl\":[{\"type\":\"heatmapgl\",\"colorbar\":{\"outlinewidth\":0,\"ticks\":\"\"},\"colorscale\":[[0.0,\"#0d0887\"],[0.1111111111111111,\"#46039f\"],[0.2222222222222222,\"#7201a8\"],[0.3333333333333333,\"#9c179e\"],[0.4444444444444444,\"#bd3786\"],[0.5555555555555556,\"#d8576b\"],[0.6666666666666666,\"#ed7953\"],[0.7777777777777778,\"#fb9f3a\"],[0.8888888888888888,\"#fdca26\"],[1.0,\"#f0f921\"]]}],\"contourcarpet\":[{\"type\":\"contourcarpet\",\"colorbar\":{\"outlinewidth\":0,\"ticks\":\"\"}}],\"contour\":[{\"type\":\"contour\",\"colorbar\":{\"outlinewidth\":0,\"ticks\":\"\"},\"colorscale\":[[0.0,\"#0d0887\"],[0.1111111111111111,\"#46039f\"],[0.2222222222222222,\"#7201a8\"],[0.3333333333333333,\"#9c179e\"],[0.4444444444444444,\"#bd3786\"],[0.5555555555555556,\"#d8576b\"],[0.6666666666666666,\"#ed7953\"],[0.7777777777777778,\"#fb9f3a\"],[0.8888888888888888,\"#fdca26\"],[1.0,\"#f0f921\"]]}],\"surface\":[{\"type\":\"surface\",\"colorbar\":{\"outlinewidth\":0,\"ticks\":\"\"},\"colorscale\":[[0.0,\"#0d0887\"],[0.1111111111111111,\"#46039f\"],[0.2222222222222222,\"#7201a8\"],[0.3333333333333333,\"#9c179e\"],[0.4444444444444444,\"#bd3786\"],[0.5555555555555556,\"#d8576b\"],[0.6666666666666666,\"#ed7953\"],[0.7777777777777778,\"#fb9f3a\"],[0.8888888888888888,\"#fdca26\"],[1.0,\"#f0f921\"]]}],\"mesh3d\":[{\"type\":\"mesh3d\",\"colorbar\":{\"outlinewidth\":0,\"ticks\":\"\"}}],\"scatter\":[{\"fillpattern\":{\"fillmode\":\"overlay\",\"size\":10,\"solidity\":0.2},\"type\":\"scatter\"}],\"parcoords\":[{\"type\":\"parcoords\",\"line\":{\"colorbar\":{\"outlinewidth\":0,\"ticks\":\"\"}}}],\"scatterpolargl\":[{\"type\":\"scatterpolargl\",\"marker\":{\"colorbar\":{\"outlinewidth\":0,\"ticks\":\"\"}}}],\"bar\":[{\"error_x\":{\"color\":\"#2a3f5f\"},\"error_y\":{\"color\":\"#2a3f5f\"},\"marker\":{\"line\":{\"color\":\"#E5ECF6\",\"width\":0.5},\"pattern\":{\"fillmode\":\"overlay\",\"size\":10,\"solidity\":0.2}},\"type\":\"bar\"}],\"scattergeo\":[{\"type\":\"scattergeo\",\"marker\":{\"colorbar\":{\"outlinewidth\":0,\"ticks\":\"\"}}}],\"scatterpolar\":[{\"type\":\"scatterpolar\",\"marker\":{\"colorbar\":{\"outlinewidth\":0,\"ticks\":\"\"}}}],\"histogram\":[{\"marker\":{\"pattern\":{\"fillmode\":\"overlay\",\"size\":10,\"solidity\":0.2}},\"type\":\"histogram\"}],\"scattergl\":[{\"type\":\"scattergl\",\"marker\":{\"colorbar\":{\"outlinewidth\":0,\"ticks\":\"\"}}}],\"scatter3d\":[{\"type\":\"scatter3d\",\"line\":{\"colorbar\":{\"outlinewidth\":0,\"ticks\":\"\"}},\"marker\":{\"colorbar\":{\"outlinewidth\":0,\"ticks\":\"\"}}}],\"scattermapbox\":[{\"type\":\"scattermapbox\",\"marker\":{\"colorbar\":{\"outlinewidth\":0,\"ticks\":\"\"}}}],\"scatterternary\":[{\"type\":\"scatterternary\",\"marker\":{\"colorbar\":{\"outlinewidth\":0,\"ticks\":\"\"}}}],\"scattercarpet\":[{\"type\":\"scattercarpet\",\"marker\":{\"colorbar\":{\"outlinewidth\":0,\"ticks\":\"\"}}}],\"carpet\":[{\"aaxis\":{\"endlinecolor\":\"#2a3f5f\",\"gridcolor\":\"white\",\"linecolor\":\"white\",\"minorgridcolor\":\"white\",\"startlinecolor\":\"#2a3f5f\"},\"baxis\":{\"endlinecolor\":\"#2a3f5f\",\"gridcolor\":\"white\",\"linecolor\":\"white\",\"minorgridcolor\":\"white\",\"startlinecolor\":\"#2a3f5f\"},\"type\":\"carpet\"}],\"table\":[{\"cells\":{\"fill\":{\"color\":\"#EBF0F8\"},\"line\":{\"color\":\"white\"}},\"header\":{\"fill\":{\"color\":\"#C8D4E3\"},\"line\":{\"color\":\"white\"}},\"type\":\"table\"}],\"barpolar\":[{\"marker\":{\"line\":{\"color\":\"#E5ECF6\",\"width\":0.5},\"pattern\":{\"fillmode\":\"overlay\",\"size\":10,\"solidity\":0.2}},\"type\":\"barpolar\"}],\"pie\":[{\"automargin\":true,\"type\":\"pie\"}]},\"layout\":{\"autotypenumbers\":\"strict\",\"colorway\":[\"#636efa\",\"#EF553B\",\"#00cc96\",\"#ab63fa\",\"#FFA15A\",\"#19d3f3\",\"#FF6692\",\"#B6E880\",\"#FF97FF\",\"#FECB52\"],\"font\":{\"color\":\"#2a3f5f\"},\"hovermode\":\"closest\",\"hoverlabel\":{\"align\":\"left\"},\"paper_bgcolor\":\"white\",\"plot_bgcolor\":\"#E5ECF6\",\"polar\":{\"bgcolor\":\"#E5ECF6\",\"angularaxis\":{\"gridcolor\":\"white\",\"linecolor\":\"white\",\"ticks\":\"\"},\"radialaxis\":{\"gridcolor\":\"white\",\"linecolor\":\"white\",\"ticks\":\"\"}},\"ternary\":{\"bgcolor\":\"#E5ECF6\",\"aaxis\":{\"gridcolor\":\"white\",\"linecolor\":\"white\",\"ticks\":\"\"},\"baxis\":{\"gridcolor\":\"white\",\"linecolor\":\"white\",\"ticks\":\"\"},\"caxis\":{\"gridcolor\":\"white\",\"linecolor\":\"white\",\"ticks\":\"\"}},\"coloraxis\":{\"colorbar\":{\"outlinewidth\":0,\"ticks\":\"\"}},\"colorscale\":{\"sequential\":[[0.0,\"#0d0887\"],[0.1111111111111111,\"#46039f\"],[0.2222222222222222,\"#7201a8\"],[0.3333333333333333,\"#9c179e\"],[0.4444444444444444,\"#bd3786\"],[0.5555555555555556,\"#d8576b\"],[0.6666666666666666,\"#ed7953\"],[0.7777777777777778,\"#fb9f3a\"],[0.8888888888888888,\"#fdca26\"],[1.0,\"#f0f921\"]],\"sequentialminus\":[[0.0,\"#0d0887\"],[0.1111111111111111,\"#46039f\"],[0.2222222222222222,\"#7201a8\"],[0.3333333333333333,\"#9c179e\"],[0.4444444444444444,\"#bd3786\"],[0.5555555555555556,\"#d8576b\"],[0.6666666666666666,\"#ed7953\"],[0.7777777777777778,\"#fb9f3a\"],[0.8888888888888888,\"#fdca26\"],[1.0,\"#f0f921\"]],\"diverging\":[[0,\"#8e0152\"],[0.1,\"#c51b7d\"],[0.2,\"#de77ae\"],[0.3,\"#f1b6da\"],[0.4,\"#fde0ef\"],[0.5,\"#f7f7f7\"],[0.6,\"#e6f5d0\"],[0.7,\"#b8e186\"],[0.8,\"#7fbc41\"],[0.9,\"#4d9221\"],[1,\"#276419\"]]},\"xaxis\":{\"gridcolor\":\"white\",\"linecolor\":\"white\",\"ticks\":\"\",\"title\":{\"standoff\":15},\"zerolinecolor\":\"white\",\"automargin\":true,\"zerolinewidth\":2},\"yaxis\":{\"gridcolor\":\"white\",\"linecolor\":\"white\",\"ticks\":\"\",\"title\":{\"standoff\":15},\"zerolinecolor\":\"white\",\"automargin\":true,\"zerolinewidth\":2},\"scene\":{\"xaxis\":{\"backgroundcolor\":\"#E5ECF6\",\"gridcolor\":\"white\",\"linecolor\":\"white\",\"showbackground\":true,\"ticks\":\"\",\"zerolinecolor\":\"white\",\"gridwidth\":2},\"yaxis\":{\"backgroundcolor\":\"#E5ECF6\",\"gridcolor\":\"white\",\"linecolor\":\"white\",\"showbackground\":true,\"ticks\":\"\",\"zerolinecolor\":\"white\",\"gridwidth\":2},\"zaxis\":{\"backgroundcolor\":\"#E5ECF6\",\"gridcolor\":\"white\",\"linecolor\":\"white\",\"showbackground\":true,\"ticks\":\"\",\"zerolinecolor\":\"white\",\"gridwidth\":2}},\"shapedefaults\":{\"line\":{\"color\":\"#2a3f5f\"}},\"annotationdefaults\":{\"arrowcolor\":\"#2a3f5f\",\"arrowhead\":0,\"arrowwidth\":1},\"geo\":{\"bgcolor\":\"white\",\"landcolor\":\"#E5ECF6\",\"subunitcolor\":\"white\",\"showland\":true,\"showlakes\":true,\"lakecolor\":\"white\"},\"title\":{\"x\":0.05},\"mapbox\":{\"style\":\"light\"}}},\"xaxis\":{\"anchor\":\"y\",\"domain\":[0.0,1.0],\"title\":{\"text\":\"Country\"},\"tickangle\":-45},\"yaxis\":{\"anchor\":\"x\",\"domain\":[0.0,1.0],\"title\":{\"text\":\"Number of Stores\"}},\"coloraxis\":{\"colorbar\":{\"title\":{\"text\":\"Number of Stores\"}},\"colorscale\":[[0.0,\"#0d0887\"],[0.1111111111111111,\"#46039f\"],[0.2222222222222222,\"#7201a8\"],[0.3333333333333333,\"#9c179e\"],[0.4444444444444444,\"#bd3786\"],[0.5555555555555556,\"#d8576b\"],[0.6666666666666666,\"#ed7953\"],[0.7777777777777778,\"#fb9f3a\"],[0.8888888888888888,\"#fdca26\"],[1.0,\"#f0f921\"]]},\"legend\":{\"tracegroupgap\":0},\"title\":{\"text\":\"Number of Stores by Country - 2007 to 2019\"},\"barmode\":\"relative\",\"uniformtext\":{\"mode\":\"show\"},\"height\":500,\"annotations\":[{\"font\":{\"size\":12},\"showarrow\":false,\"text\":\"Source: Own production, by L\\u00edvia Humaire\",\"x\":1.05,\"xref\":\"paper\",\"y\":-0.38,\"yref\":\"paper\"}]},                        {\"responsive\": true}                    ).then(function(){\n",
       "                            \n",
       "var gd = document.getElementById('dc6464ab-c9d8-48e1-9a45-863957aac85c');\n",
       "var x = new MutationObserver(function (mutations, observer) {{\n",
       "        var display = window.getComputedStyle(gd).display;\n",
       "        if (!display || display === 'none') {{\n",
       "            console.log([gd, 'removed!']);\n",
       "            Plotly.purge(gd);\n",
       "            observer.disconnect();\n",
       "        }}\n",
       "}});\n",
       "\n",
       "// Listen for the removal of the full notebook cells\n",
       "var notebookContainer = gd.closest('#notebook-container');\n",
       "if (notebookContainer) {{\n",
       "    x.observe(notebookContainer, {childList: true});\n",
       "}}\n",
       "\n",
       "// Listen for the clearing of the current output cell\n",
       "var outputEl = gd.closest('.output');\n",
       "if (outputEl) {{\n",
       "    x.observe(outputEl, {childList: true});\n",
       "}}\n",
       "\n",
       "                        })                };                });            </script>        </div>"
      ]
     },
     "metadata": {},
     "output_type": "display_data"
    }
   ],
   "source": [
    "# Crie o gráfico de barras interativo com cores personalizadas\n",
    "fig = px.bar(\n",
    "    dados_por_pais,\n",
    "    x='pais',  # Altere 'Paises' para 'pais'\n",
    "    y='quantidade de lojas',\n",
    "    color='quantidade de lojas',  # Cor das barras com base na quantidade de lojas\n",
    "    text='quantidade de lojas',  # Texto da legenda com a quantidade de lojas\n",
    "    labels={'quantidade de lojas': 'Number of Stores', 'pais': 'Countries'},  # Altere os rótulos aqui\n",
    "    title='Number of Stores by Country - 2007 to 2019'  # Altere o título aqui\n",
    ")\n",
    "\n",
    "# Personalize o layout do gráfico e aumente a altura da figura\n",
    "fig.update_layout(\n",
    "    xaxis_title='Country',\n",
    "    yaxis_title='Number of Stores',\n",
    "    xaxis_tickangle=-45,\n",
    "    uniformtext_mode='show',  # Exiba o texto mesmo que ele não caiba completamente\n",
    "    height=500,  # Aumente a altura da figura\n",
    ")\n",
    "\n",
    "# Personalize o texto da caixa interativa (hovertemplate) para mostrar apenas o nome do país e a quantidade de lojas\n",
    "fig.update_traces(\n",
    "    hovertemplate='<b>Country:</b> %{x}<br><b>Number of Stores:</b> %{y} Stores',\n",
    ")\n",
    "\n",
    "# Adicione uma anotação (legenda) ao gráfico com a fonte e o autor da pesquisa no lado direito\n",
    "fig.add_annotation(\n",
    "    text='Source: Own production, by Lívia Humaire',\n",
    "    xref='paper',  # Posição em relação ao papel (x)\n",
    "    yref='paper',  # Posição em relação ao papel (y)\n",
    "    x=1.05,  # Posição horizontal (1.05 = à direita do gráfico)\n",
    "    y=-0.38,  # Posição vertical (-0.15 = abaixo do eixo x)\n",
    "    showarrow=False,  # Não mostrar seta de indicação\n",
    "    font=dict(size=12),  # Tamanho da fonte da legenda\n",
    ")\n",
    "\n",
    "# Exiba o gráfico interativo\n",
    "fig.show()"
   ]
  },
  {
   "cell_type": "code",
   "execution_count": null,
   "id": "c78582e9",
   "metadata": {},
   "outputs": [],
   "source": []
  }
 ],
 "metadata": {
  "kernelspec": {
   "display_name": "Python 3 (ipykernel)",
   "language": "python",
   "name": "python3"
  },
  "language_info": {
   "codemirror_mode": {
    "name": "ipython",
    "version": 3
   },
   "file_extension": ".py",
   "mimetype": "text/x-python",
   "name": "python",
   "nbconvert_exporter": "python",
   "pygments_lexer": "ipython3",
   "version": "3.11.4"
  }
 },
 "nbformat": 4,
 "nbformat_minor": 5
}
